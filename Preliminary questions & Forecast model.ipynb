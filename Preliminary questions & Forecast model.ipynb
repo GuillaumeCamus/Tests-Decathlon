{
 "cells": [
  {
   "cell_type": "code",
   "execution_count": 23,
   "id": "d7c2dc41",
   "metadata": {},
   "outputs": [],
   "source": [
    "import pandas as pd\n",
    "import numpy as np\n",
    "import os\n",
    "import openpyxl\n",
    "import matplotlib.pyplot as plt"
   ]
  },
  {
   "cell_type": "code",
   "execution_count": 3,
   "id": "fe6a7c6d",
   "metadata": {},
   "outputs": [
    {
     "data": {
      "text/plain": [
       "'1.2.4'"
      ]
     },
     "execution_count": 3,
     "metadata": {},
     "output_type": "execute_result"
    }
   ],
   "source": [
    "pd.__version__"
   ]
  },
  {
   "cell_type": "code",
   "execution_count": 4,
   "id": "3f2e8612",
   "metadata": {},
   "outputs": [
    {
     "data": {
      "text/plain": [
       "['bu_feat.csv.gz',\n",
       " 'bu_feat.xlsx',\n",
       " 'test.csv.gz',\n",
       " 'test.xlsx',\n",
       " 'train.csv.gz',\n",
       " 'train.xlsx',\n",
       " '~$bu_feat.xlsx',\n",
       " '~$train.xlsx']"
      ]
     },
     "execution_count": 4,
     "metadata": {},
     "output_type": "execute_result"
    }
   ],
   "source": [
    "path = 'D:/Tests Décathlon/data/test_data_scientist'\n",
    "os.listdir(path)"
   ]
  },
  {
   "cell_type": "code",
   "execution_count": 5,
   "id": "f6216b04",
   "metadata": {},
   "outputs": [
    {
     "name": "stdout",
     "output_type": "stream",
     "text": [
      "(277719, 4)\n"
     ]
    }
   ],
   "source": [
    "xl_file = pd.read_excel('D:/Tests Décathlon/data/test_data_scientist/train.xlsx')\n",
    "dimensions = xl_file.shape\n",
    "print(dimensions)"
   ]
  },
  {
   "cell_type": "code",
   "execution_count": 5,
   "id": "f53173c7",
   "metadata": {},
   "outputs": [
    {
     "data": {
      "text/html": [
       "<div>\n",
       "<style scoped>\n",
       "    .dataframe tbody tr th:only-of-type {\n",
       "        vertical-align: middle;\n",
       "    }\n",
       "\n",
       "    .dataframe tbody tr th {\n",
       "        vertical-align: top;\n",
       "    }\n",
       "\n",
       "    .dataframe thead th {\n",
       "        text-align: right;\n",
       "    }\n",
       "</style>\n",
       "<table border=\"1\" class=\"dataframe\">\n",
       "  <thead>\n",
       "    <tr style=\"text-align: right;\">\n",
       "      <th></th>\n",
       "      <th>day_id</th>\n",
       "      <th>but_num_business_unit</th>\n",
       "      <th>dpt_num_department</th>\n",
       "      <th>turnover</th>\n",
       "    </tr>\n",
       "  </thead>\n",
       "  <tbody>\n",
       "    <tr>\n",
       "      <th>0</th>\n",
       "      <td>2017-09-30</td>\n",
       "      <td>64</td>\n",
       "      <td>127</td>\n",
       "      <td>580.308443</td>\n",
       "    </tr>\n",
       "    <tr>\n",
       "      <th>1</th>\n",
       "      <td>2017-09-30</td>\n",
       "      <td>119</td>\n",
       "      <td>127</td>\n",
       "      <td>1512.995918</td>\n",
       "    </tr>\n",
       "    <tr>\n",
       "      <th>2</th>\n",
       "      <td>2017-09-30</td>\n",
       "      <td>4</td>\n",
       "      <td>88</td>\n",
       "      <td>668.593556</td>\n",
       "    </tr>\n",
       "    <tr>\n",
       "      <th>3</th>\n",
       "      <td>2017-09-30</td>\n",
       "      <td>425</td>\n",
       "      <td>127</td>\n",
       "      <td>0.000000</td>\n",
       "    </tr>\n",
       "    <tr>\n",
       "      <th>4</th>\n",
       "      <td>2017-09-30</td>\n",
       "      <td>513</td>\n",
       "      <td>73</td>\n",
       "      <td>0.000000</td>\n",
       "    </tr>\n",
       "  </tbody>\n",
       "</table>\n",
       "</div>"
      ],
      "text/plain": [
       "      day_id  but_num_business_unit  dpt_num_department     turnover\n",
       "0 2017-09-30                     64                 127   580.308443\n",
       "1 2017-09-30                    119                 127  1512.995918\n",
       "2 2017-09-30                      4                  88   668.593556\n",
       "3 2017-09-30                    425                 127     0.000000\n",
       "4 2017-09-30                    513                  73     0.000000"
      ]
     },
     "execution_count": 5,
     "metadata": {},
     "output_type": "execute_result"
    }
   ],
   "source": [
    "xl_file.head()"
   ]
  },
  {
   "cell_type": "code",
   "execution_count": 7,
   "id": "7f59fa7e",
   "metadata": {},
   "outputs": [],
   "source": [
    "workbook = openpyxl.load_workbook('D:/Tests Décathlon/data/test_data_scientist/train.xlsx', read_only = True)\n",
    "sheet = workbook.active"
   ]
  },
  {
   "cell_type": "code",
   "execution_count": 8,
   "id": "6b1b26e8",
   "metadata": {
    "scrolled": true
   },
   "outputs": [
    {
     "name": "stdout",
     "output_type": "stream",
     "text": [
      "Le department n° 127 a fait le plus gros chiffre d'affaire de 2016 ( 9998.346774863414 )\n"
     ]
    }
   ],
   "source": [
    "# Question préliminaire 1.a.\n",
    "turnover_2016=[]\n",
    "data_2016=[]\n",
    "# #Affichage de la première ligne du tableau excel\n",
    "# for row in sheet.iter_rows(min_row = 1, max_row = 1, values_only=True):\n",
    "#     print(row)\n",
    "#Remplissage des données intermédiaires seulement pour l'année 2016\n",
    "for row in sheet.iter_rows(min_row = 2, max_row = 277719, values_only=True):\n",
    "    if '2016' in str(row[0]):\n",
    "        turnover_2016.append(row[3])\n",
    "        data_2016.append([row[0], row[1], row[2], row[3]])\n",
    "index = np.argmax(turnover_2016)\n",
    "#Récupération des données correspondantes au chiffre d'affaire maximal de 2016\n",
    "maximum_turnover=data_2016[index][3]\n",
    "department_number=data_2016[index][2]\n",
    "business_unit=data_2016[index][1]\n",
    "date=data_2016[index][0]\n",
    "#print(data_2016[index])#Affichage des données voulues\n",
    "print(\"Le department n°\", department_number,\"a fait le plus gros chiffre d'affaire de 2016 (\", maximum_turnover,\")\")"
   ]
  },
  {
   "cell_type": "code",
   "execution_count": 9,
   "id": "b5023d76",
   "metadata": {},
   "outputs": [
    {
     "name": "stdout",
     "output_type": "stream",
     "text": [
      "À travers tous les magasins, les 5 meilleures semaines en terme de chiffre d'affaire pour le département 88 en 2015 sont les semaines  27 , 37 , 36 , 38 et 28\n"
     ]
    }
   ],
   "source": [
    "# Question préliminaire 1.b.\n",
    "data_2015_dept_88=[]\n",
    "#Séléction des données utiles : lignes pour l'année 2015 du département 88\n",
    "for row in sheet.iter_rows(min_row = 2, max_row = 277719, values_only=True):\n",
    "    if '2015' in str(row[0]) and row[2]==88:\n",
    "        data_2015_dept_88.append([row[0], row[1], row[2], row[3]])\n",
    "#print(data_2015_dept_88)\n",
    "data_2015_dept_88.reverse() #On inverse la liste pour avoir les premières données qui correspondent à la première semaine\n",
    "#Initialisation de mes variables et de mon tableau récapitulatif (recap_table)\n",
    "date=data_2015_dept_88[0][0]\n",
    "week_number=1\n",
    "total_turnover=0\n",
    "recap_table=[]\n",
    "for line in data_2015_dept_88:\n",
    "    if line[0]!=date:#On regarde si on a changé de semaine\n",
    "        recap_table.append([week_number, total_turnover])\n",
    "        week_number+=1 #Si oui, on rajoute une ligne dans le recap_table \n",
    "        total_turnover=0 #avec le numéro de la semaine et le chiffre d'affaire total\n",
    "        date=line[0]\n",
    "    else:\n",
    "        total_turnover+=round(float(line[3])) #Sinon on augmente seulement le chiffre d'affaire total de la semaine\n",
    "recap_table.append([week_number, total_turnover]) #Ajout pour le dernière semaine\n",
    "#print(recap_table)\n",
    "recap_table.sort(key=lambda x:x[1]) #On trie recap_table en fonction du 2ème terme\n",
    "recap_table.reverse()\n",
    "#print(recap_table)\n",
    "print(\"À travers tous les magasins, les 5 meilleures semaines en terme de chiffre d'affaire pour le département 88 en 2015 sont les semaines \", recap_table[0][0],\",\", recap_table[1][0],\",\", recap_table[2][0],\",\", recap_table[3][0],\"et\", recap_table[4][0])"
   ]
  },
  {
   "cell_type": "code",
   "execution_count": 10,
   "id": "34bfe80d",
   "metadata": {},
   "outputs": [
    {
     "name": "stdout",
     "output_type": "stream",
     "text": [
      "Le magasin (ou la buisiness_unit) le plus performant de 2014 est le n° 121 avec un chiffre d'affaire total de 327804\n"
     ]
    }
   ],
   "source": [
    "# Question préliminaire 1.c.\n",
    "store_list=[]\n",
    "store_performance_table=[]\n",
    "for row in sheet.iter_rows(min_row = 2, max_row = 277719, values_only=True):\n",
    "    if row[1] not in store_list:\n",
    "        store_list.append(row[1]) #Initialisation de ma liste des magasins\n",
    "for i in range(len(store_list)):\n",
    "    store_performance_table.append([store_list[i], 0]) #Initialisation de mon tableau récap des performances des magasins\n",
    "for row in sheet.iter_rows(min_row = 2, max_row = 277719, values_only=True):\n",
    "    if '2014' in str(row[0]):\n",
    "        store_performance_table[store_list.index(row[1])][1]+=round(float(row[3])) #On cumule les chiffres d'affaires de chaque magasin\n",
    "store_performance_table.sort(key=lambda x:x[1]) #On trie store_performance_table en fonction du 2ème terme\n",
    "store_performance_table.reverse()\n",
    "#print(store_performance_table)\n",
    "print(\"Le magasin (ou la buisiness_unit) le plus performant de 2014 est le n°\", store_performance_table[0][0], \"avec un chiffre d'affaire total de\", store_performance_table[0][1])"
   ]
  },
  {
   "cell_type": "code",
   "execution_count": 48,
   "id": "d932ce04",
   "metadata": {},
   "outputs": [],
   "source": [
    "# Question préliminaire 1.d.\n",
    "\n",
    "#On va regrouper les données du département 73 pour les années 2013 à 2016 (années complètes)\n",
    "\n",
    "data_2016_dept_73=[]\n",
    "#Séléction des données utiles : lignes pour l'année 2016 du département 73\n",
    "for row in sheet.iter_rows(min_row = 2, max_row = 277719, values_only=True):\n",
    "    if '2016' in str(row[0]) and row[2]==73:\n",
    "        data_2016_dept_73.append([row[0], row[1], row[2], row[3]])\n",
    "#print(data_2016_dept_73)\n",
    "data_2016_dept_73.reverse() #On inverse la liste pour avoir les premières données qui correspondent à la première semaine\n",
    "#Initialisation de mes variables et de mon tableau récapitulatif (recap_table)\n",
    "date=data_2016_dept_73[0][0]\n",
    "week_number=1\n",
    "total_turnover=0\n",
    "recap_table_2016=[]\n",
    "for line in data_2016_dept_73:\n",
    "    if line[0]!=date:#On regarde si on a changé de semaine\n",
    "        recap_table_2016.append([week_number, total_turnover])\n",
    "        week_number+=1 #Si oui, on rajoute une ligne dans le recap_table \n",
    "        total_turnover=0 #avec le numéro de la semaine et le chiffre d'affaire total\n",
    "        date=line[0]\n",
    "    else:\n",
    "        total_turnover+=round(float(line[3])) #Sinon on augmente seulement le chiffre d'affaire total de la semaine\n",
    "recap_table_2016.append([week_number, total_turnover]) #Ajout pour le dernière semaine\n",
    "#print(recap_table_2016)\n",
    "abs_2016=[]\n",
    "ord_2016=[]\n",
    "for i in range(len(recap_table_2016)): #Préparation pour l'affichage\n",
    "    abs_2016.append(recap_table_2016[i][0])\n",
    "    ord_2016.append(recap_table_2016[i][1])"
   ]
  },
  {
   "cell_type": "code",
   "execution_count": 49,
   "id": "8963f40b",
   "metadata": {},
   "outputs": [],
   "source": [
    "#2015\n",
    "data_2015_dept_73=[]\n",
    "#Séléction des données utiles : lignes pour l'année 2015 du département 73\n",
    "for row in sheet.iter_rows(min_row = 2, max_row = 277719, values_only=True):\n",
    "    if '2015' in str(row[0]) and row[2]==73:\n",
    "        data_2015_dept_73.append([row[0], row[1], row[2], row[3]])\n",
    "#print(data_2015_dept_73)\n",
    "data_2015_dept_73.reverse() #On inverse la liste pour avoir les premières données qui correspondent à la première semaine\n",
    "#Initialisation de mes variables et de mon tableau récapitulatif (recap_table)\n",
    "date=data_2015_dept_73[0][0]\n",
    "week_number=1\n",
    "total_turnover=0\n",
    "recap_table_2015=[]\n",
    "for line in data_2015_dept_73:\n",
    "    if line[0]!=date:#On regarde si on a changé de semaine\n",
    "        recap_table_2015.append([week_number, total_turnover])\n",
    "        week_number+=1 #Si oui, on rajoute une ligne dans le recap_table \n",
    "        total_turnover=0 #avec le numéro de la semaine et le chiffre d'affaire total\n",
    "        date=line[0]\n",
    "    else:\n",
    "        total_turnover+=round(float(line[3])) #Sinon on augmente seulement le chiffre d'affaire total de la semaine\n",
    "recap_table_2015.append([week_number, total_turnover]) #Ajout pour le dernière semaine\n",
    "#print(recap_table_2015)\n",
    "abs_2015=[]\n",
    "ord_2015=[]\n",
    "for i in range(len(recap_table_2015)):\n",
    "    abs_2015.append(recap_table_2015[i][0])\n",
    "    ord_2015.append(recap_table_2015[i][1])"
   ]
  },
  {
   "cell_type": "code",
   "execution_count": 50,
   "id": "453593b6",
   "metadata": {},
   "outputs": [],
   "source": [
    "#2014\n",
    "data_2014_dept_73=[]\n",
    "#Séléction des données utiles : lignes pour l'année 2014 du département 73\n",
    "for row in sheet.iter_rows(min_row = 2, max_row = 277719, values_only=True):\n",
    "    if '2014' in str(row[0]) and row[2]==73:\n",
    "        data_2014_dept_73.append([row[0], row[1], row[2], row[3]])\n",
    "#print(data_2014_dept_73)\n",
    "data_2014_dept_73.reverse() #On inverse la liste pour avoir les premières données qui correspondent à la première semaine\n",
    "#Initialisation de mes variables et de mon tableau récapitulatif (recap_table)\n",
    "date=data_2014_dept_73[0][0]\n",
    "week_number=1\n",
    "total_turnover=0\n",
    "recap_table_2014=[]\n",
    "for line in data_2014_dept_73:\n",
    "    if line[0]!=date:#On regarde si on a changé de semaine\n",
    "        recap_table_2014.append([week_number, total_turnover])\n",
    "        week_number+=1 #Si oui, on rajoute une ligne dans le recap_table \n",
    "        total_turnover=0 #avec le numéro de la semaine et le chiffre d'affaire total\n",
    "        date=line[0]\n",
    "    else:\n",
    "        total_turnover+=round(float(line[3])) #Sinon on augmente seulement le chiffre d'affaire total de la semaine\n",
    "recap_table_2014.append([week_number, total_turnover]) #Ajout pour le dernière semaine\n",
    "#print(recap_table_2014)\n",
    "abs_2014=[]\n",
    "ord_2014=[]\n",
    "for i in range(len(recap_table_2014)):\n",
    "    abs_2014.append(recap_table_2014[i][0])\n",
    "    ord_2014.append(recap_table_2014[i][1])"
   ]
  },
  {
   "cell_type": "code",
   "execution_count": 51,
   "id": "cdd0d788",
   "metadata": {},
   "outputs": [],
   "source": [
    "#2013\n",
    "data_2013_dept_73=[]\n",
    "#Séléction des données utiles : lignes pour l'année 2013 du département 73\n",
    "for row in sheet.iter_rows(min_row = 2, max_row = 277719, values_only=True):\n",
    "    if '2013' in str(row[0]) and row[2]==73:\n",
    "        data_2013_dept_73.append([row[0], row[1], row[2], row[3]])\n",
    "#print(data_2013_dept_73)\n",
    "data_2013_dept_73.reverse() #On inverse la liste pour avoir les premières données qui correspondent à la première semaine\n",
    "#Initialisation de mes variables et de mon tableau récapitulatif (recap_table)\n",
    "date=data_2013_dept_73[0][0]\n",
    "week_number=1\n",
    "total_turnover=0\n",
    "recap_table_2013=[]\n",
    "for line in data_2013_dept_73:\n",
    "    if line[0]!=date:#On regarde si on a changé de semaine\n",
    "        recap_table_2013.append([week_number, total_turnover])\n",
    "        week_number+=1 #Si oui, on rajoute une ligne dans le recap_table \n",
    "        total_turnover=0 #avec le numéro de la semaine et le chiffre d'affaire total\n",
    "        date=line[0]\n",
    "    else:\n",
    "        total_turnover+=round(float(line[3])) #Sinon on augmente seulement le chiffre d'affaire total de la semaine\n",
    "recap_table_2013.append([week_number, total_turnover]) #Ajout pour le dernière semaine\n",
    "#print(recap_table_2013)\n",
    "abs_2013=[]\n",
    "ord_2013=[]\n",
    "for i in range(len(recap_table_2013)):\n",
    "    abs_2013.append(recap_table_2013[i][0])\n",
    "    ord_2013.append(recap_table_2013[i][1])"
   ]
  },
  {
   "cell_type": "code",
   "execution_count": 52,
   "id": "494c88d7",
   "metadata": {},
   "outputs": [],
   "source": [
    "#2017 (année incomplète mais les données sont quand même intéressantes)\n",
    "data_2017_dept_73=[]\n",
    "#Séléction des données utiles : lignes pour l'année 2017 du département 73\n",
    "for row in sheet.iter_rows(min_row = 2, max_row = 277719, values_only=True):\n",
    "    if '2017' in str(row[0]) and row[2]==73:\n",
    "        data_2017_dept_73.append([row[0], row[1], row[2], row[3]])\n",
    "#print(data_2017_dept_73)\n",
    "data_2017_dept_73.reverse() #On inverse la liste pour avoir les premières données qui correspondent à la première semaine\n",
    "#Initialisation de mes variables et de mon tableau récapitulatif (recap_table)\n",
    "date=data_2017_dept_73[0][0]\n",
    "week_number=1\n",
    "total_turnover=0\n",
    "recap_table_2017=[]\n",
    "for line in data_2017_dept_73:\n",
    "    if line[0]!=date:#On regarde si on a changé de semaine\n",
    "        recap_table_2017.append([week_number, total_turnover])\n",
    "        week_number+=1 #Si oui, on rajoute une ligne dans le recap_table \n",
    "        total_turnover=0 #avec le numéro de la semaine et le chiffre d'affaire total\n",
    "        date=line[0]\n",
    "    else:\n",
    "        total_turnover+=round(float(line[3])) #Sinon on augmente seulement le chiffre d'affaire total de la semaine\n",
    "recap_table_2017.append([week_number, total_turnover]) #Ajout pour le dernière semaine\n",
    "#print(recap_table_2017)\n",
    "abs_2017=[]\n",
    "ord_2017=[]\n",
    "for i in range(len(recap_table_2017)):\n",
    "    abs_2017.append(recap_table_2017[i][0])\n",
    "    ord_2017.append(recap_table_2017[i][1])"
   ]
  },
  {
   "cell_type": "code",
   "execution_count": 53,
   "id": "5add135e",
   "metadata": {},
   "outputs": [
    {
     "data": {
      "image/png": "[encoded data removed]",
      "text/plain": [
       "<Figure size 432x288 with 1 Axes>"
      ]
     },
     "metadata": {
      "needs_background": "light"
     },
     "output_type": "display_data"
    }
   ],
   "source": [
    "plt.plot(abs_2017, ord_2017)\n",
    "plt.plot(abs_2016, ord_2016)\n",
    "plt.plot(abs_2015, ord_2015)\n",
    "plt.plot(abs_2014, ord_2014)\n",
    "plt.plot(abs_2013, ord_2013)\n",
    "plt.legend([\"2017_data\", \"2016_data\", \"2015_data\", \"2014_data\", \"2013_data\"])\n",
    "plt.xlabel('week number')\n",
    "plt.ylabel('turnover')\n",
    "plt.show()"
   ]
  },
  {
   "cell_type": "raw",
   "id": "6d5a2454",
   "metadata": {},
   "source": [
    "On remarque déjà que chaque année, l'intérêt pour ce sport est croissant puisque les ventes augmentent. C'est encore plus vrai pour l'année 2016 où l'augmentation brutale du chiffre d'affaire saute aux yeux (peut-être pour l'Euro 2016 de football en France).\n",
    "Chaque année, même s'il y a beaucoup de variations concernant le chiffre d'affaire, un pic de vente élevé se démarque entre la semaine 15 et la semaine 33 (mi-avril~mi-août). Ce pic représente le retour des beaux jours et de l'été, on peut donc penser que c'est un sport qui a un regain de popularité pendant l'été, surement pratiqué en extérieur. Cependant, le chiffre d'affaire du département 73 est quand même significatif tout le long de l'année (malgré les variations importantes) pour que ça soit un sport qui ne se pratique que pendant l'été.\n",
    "Avec tous ces indices, je pense qu'il s'agit du football ou du running (mais l'augmentation importante en 2016 me fait plus pencher pour le football)."
   ]
  },
  {
   "cell_type": "code",
   "execution_count": 54,
   "id": "58d7288b",
   "metadata": {},
   "outputs": [],
   "source": [
    "# Question préliminaire 1.e.\n",
    "\n",
    "#On va regrouper les données du département 73 pour les années 2013 à 2016 (années complètes)\n",
    "\n",
    "data_2016_dept_117=[]\n",
    "#Séléction des données utiles : lignes pour l'année 2016 du département 117\n",
    "for row in sheet.iter_rows(min_row = 2, max_row = 277719, values_only=True):\n",
    "    if '2016' in str(row[0]) and row[2]==117:\n",
    "        data_2016_dept_117.append([row[0], row[1], row[2], row[3]])\n",
    "#print(data_2016_dept_117)\n",
    "data_2016_dept_117.reverse() #On inverse la liste pour avoir les premières données qui correspondent à la première semaine\n",
    "#Initialisation de mes variables et de mon tableau récapitulatif (recap_table)\n",
    "date=data_2016_dept_117[0][0]\n",
    "week_number=1\n",
    "total_turnover=0\n",
    "recap_table_2016=[]\n",
    "for line in data_2016_dept_117:\n",
    "    if line[0]!=date:#On regarde si on a changé de semaine\n",
    "        recap_table_2016.append([week_number, total_turnover])\n",
    "        week_number+=1 #Si oui, on rajoute une ligne dans le recap_table \n",
    "        total_turnover=0 #avec le numéro de la semaine et le chiffre d'affaire total\n",
    "        date=line[0]\n",
    "    else:\n",
    "        total_turnover+=round(float(line[3])) #Sinon on augmente seulement le chiffre d'affaire total de la semaine\n",
    "recap_table_2016.append([week_number, total_turnover]) #Ajout pour le dernière semaine\n",
    "#print(recap_table_2016)\n",
    "abs_2016=[]\n",
    "ord_2016=[]\n",
    "for i in range(len(recap_table_2016)): #Préparation pour l'affichage\n",
    "    abs_2016.append(recap_table_2016[i][0])\n",
    "    ord_2016.append(recap_table_2016[i][1])"
   ]
  },
  {
   "cell_type": "code",
   "execution_count": 55,
   "id": "8db4d33c",
   "metadata": {},
   "outputs": [],
   "source": [
    "#2015\n",
    "data_2015_dept_117=[]\n",
    "#Séléction des données utiles : lignes pour l'année 2015 du département 117\n",
    "for row in sheet.iter_rows(min_row = 2, max_row = 277719, values_only=True):\n",
    "    if '2015' in str(row[0]) and row[2]==117:\n",
    "        data_2015_dept_117.append([row[0], row[1], row[2], row[3]])\n",
    "#print(data_2015_dept_117)\n",
    "data_2015_dept_117.reverse() #On inverse la liste pour avoir les premières données qui correspondent à la première semaine\n",
    "#Initialisation de mes variables et de mon tableau récapitulatif (recap_table)\n",
    "date=data_2015_dept_117[0][0]\n",
    "week_number=1\n",
    "total_turnover=0\n",
    "recap_table_2015=[]\n",
    "for line in data_2015_dept_117:\n",
    "    if line[0]!=date:#On regarde si on a changé de semaine\n",
    "        recap_table_2015.append([week_number, total_turnover])\n",
    "        week_number+=1 #Si oui, on rajoute une ligne dans le recap_table \n",
    "        total_turnover=0 #avec le numéro de la semaine et le chiffre d'affaire total\n",
    "        date=line[0]\n",
    "    else:\n",
    "        total_turnover+=round(float(line[3])) #Sinon on augmente seulement le chiffre d'affaire total de la semaine\n",
    "recap_table_2015.append([week_number, total_turnover]) #Ajout pour le dernière semaine\n",
    "#print(recap_table_2015)\n",
    "abs_2015=[]\n",
    "ord_2015=[]\n",
    "for i in range(len(recap_table_2015)): #Préparation pour l'affichage\n",
    "    abs_2015.append(recap_table_2015[i][0])\n",
    "    ord_2015.append(recap_table_2015[i][1])"
   ]
  },
  {
   "cell_type": "code",
   "execution_count": 56,
   "id": "daf72941",
   "metadata": {},
   "outputs": [],
   "source": [
    "#2014\n",
    "data_2014_dept_117=[]\n",
    "#Séléction des données utiles : lignes pour l'année 2014 du département 117\n",
    "for row in sheet.iter_rows(min_row = 2, max_row = 277719, values_only=True):\n",
    "    if '2014' in str(row[0]) and row[2]==117:\n",
    "        data_2014_dept_117.append([row[0], row[1], row[2], row[3]])\n",
    "#print(data_2014_dept_117)\n",
    "data_2014_dept_117.reverse() #On inverse la liste pour avoir les premières données qui correspondent à la première semaine\n",
    "#Initialisation de mes variables et de mon tableau récapitulatif (recap_table)\n",
    "date=data_2014_dept_117[0][0]\n",
    "week_number=1\n",
    "total_turnover=0\n",
    "recap_table_2014=[]\n",
    "for line in data_2014_dept_117:\n",
    "    if line[0]!=date:#On regarde si on a changé de semaine\n",
    "        recap_table_2014.append([week_number, total_turnover])\n",
    "        week_number+=1 #Si oui, on rajoute une ligne dans le recap_table \n",
    "        total_turnover=0 #avec le numéro de la semaine et le chiffre d'affaire total\n",
    "        date=line[0]\n",
    "    else:\n",
    "        total_turnover+=round(float(line[3])) #Sinon on augmente seulement le chiffre d'affaire total de la semaine\n",
    "recap_table_2014.append([week_number, total_turnover]) #Ajout pour le dernière semaine\n",
    "#print(recap_table_2014)\n",
    "abs_2014=[]\n",
    "ord_2014=[]\n",
    "for i in range(len(recap_table_2014)): #Préparation pour l'affichage\n",
    "    abs_2014.append(recap_table_2014[i][0])\n",
    "    ord_2014.append(recap_table_2014[i][1])"
   ]
  },
  {
   "cell_type": "code",
   "execution_count": 57,
   "id": "77698698",
   "metadata": {},
   "outputs": [],
   "source": [
    "#2013\n",
    "data_2013_dept_117=[]\n",
    "#Séléction des données utiles : lignes pour l'année 2013 du département 117\n",
    "for row in sheet.iter_rows(min_row = 2, max_row = 277719, values_only=True):\n",
    "    if '2013' in str(row[0]) and row[2]==117:\n",
    "        data_2013_dept_117.append([row[0], row[1], row[2], row[3]])\n",
    "#print(data_2013_dept_117)\n",
    "data_2013_dept_117.reverse() #On inverse la liste pour avoir les premières données qui correspondent à la première semaine\n",
    "#Initialisation de mes variables et de mon tableau récapitulatif (recap_table)\n",
    "date=data_2013_dept_117[0][0]\n",
    "week_number=1\n",
    "total_turnover=0\n",
    "recap_table_2013=[]\n",
    "for line in data_2013_dept_117:\n",
    "    if line[0]!=date:#On regarde si on a changé de semaine\n",
    "        recap_table_2013.append([week_number, total_turnover])\n",
    "        week_number+=1 #Si oui, on rajoute une ligne dans le recap_table \n",
    "        total_turnover=0 #avec le numéro de la semaine et le chiffre d'affaire total\n",
    "        date=line[0]\n",
    "    else:\n",
    "        total_turnover+=round(float(line[3])) #Sinon on augmente seulement le chiffre d'affaire total de la semaine\n",
    "recap_table_2013.append([week_number, total_turnover]) #Ajout pour la dernière semaine\n",
    "#print(recap_table_2013)\n",
    "abs_2013=[]\n",
    "ord_2013=[]\n",
    "for i in range(len(recap_table_2013)): #Préparation pour l'affichage\n",
    "    abs_2013.append(recap_table_2013[i][0])\n",
    "    ord_2013.append(recap_table_2013[i][1])"
   ]
  },
  {
   "cell_type": "code",
   "execution_count": 59,
   "id": "a1e4e0bc",
   "metadata": {},
   "outputs": [],
   "source": [
    "#2017 (année incomplète)\n",
    "data_2017_dept_117=[]\n",
    "#Séléction des données utiles : lignes pour l'année 2017 du département 117\n",
    "for row in sheet.iter_rows(min_row = 2, max_row = 277719, values_only=True):\n",
    "    if '2017' in str(row[0]) and row[2]==117:\n",
    "        data_2017_dept_117.append([row[0], row[1], row[2], row[3]])\n",
    "#print(data_2017_dept_117)\n",
    "data_2017_dept_117.reverse() #On inverse la liste pour avoir les premières données qui correspondent à la première semaine\n",
    "#Initialisation de mes variables et de mon tableau récapitulatif (recap_table)\n",
    "date=data_2017_dept_117[0][0]\n",
    "week_number=1\n",
    "total_turnover=0\n",
    "recap_table_2017=[]\n",
    "for line in data_2017_dept_117:\n",
    "    if line[0]!=date:#On regarde si on a changé de semaine\n",
    "        recap_table_2017.append([week_number, total_turnover])\n",
    "        week_number+=1 #Si oui, on rajoute une ligne dans le recap_table \n",
    "        total_turnover=0 #avec le numéro de la semaine et le chiffre d'affaire total\n",
    "        date=line[0]\n",
    "    else:\n",
    "        total_turnover+=round(float(line[3])) #Sinon on augmente seulement le chiffre d'affaire total de la semaine\n",
    "recap_table_2017.append([week_number, total_turnover]) #Ajout pour la dernière semaine\n",
    "#print(recap_table_2017)\n",
    "abs_2017=[]\n",
    "ord_2017=[]\n",
    "for i in range(len(recap_table_2017)): #Préparation pour l'affichage\n",
    "    abs_2017.append(recap_table_2017[i][0])\n",
    "    ord_2017.append(recap_table_2017[i][1])"
   ]
  },
  {
   "cell_type": "code",
   "execution_count": 67,
   "id": "32120158",
   "metadata": {},
   "outputs": [
    {
     "data": {
      "image/png": "[encoded data removed]",
      "text/plain": [
       "<Figure size 432x288 with 1 Axes>"
      ]
     },
     "metadata": {
      "needs_background": "light"
     },
     "output_type": "display_data"
    }
   ],
   "source": [
    "plt.plot(abs_2017, ord_2017)\n",
    "plt.plot(abs_2016, ord_2016)\n",
    "plt.plot(abs_2015, ord_2015)\n",
    "plt.plot(abs_2014, ord_2014)\n",
    "plt.plot(abs_2013, ord_2013)\n",
    "plt.legend([\"2017_data\", \"2016_data\", \"2015_data\", \"2014_data\", \"2013_data\"])\n",
    "plt.xlabel('week number')\n",
    "plt.ylabel('turnover')\n",
    "plt.show()"
   ]
  },
  {
   "cell_type": "raw",
   "id": "06cea196",
   "metadata": {},
   "source": [
    "On remarque facilement que, chaque année, le chiffre d'affaire concernant ce sport est quasi-nul pendant toute la période estivale (semaines 15~40) et au contraire qu'il est au plus haut pendant les mois les plus froids de l'année (semaines 1~10 et 42~53).\n",
    "Je pense donc que le département 117 représente les sports d'hivers comme le ski ou le snowboard."
   ]
  },
  {
   "cell_type": "code",
   "execution_count": 69,
   "id": "cf4f980b",
   "metadata": {},
   "outputs": [],
   "source": [
    "# Forecast model 2.a.\n",
    "\n",
    "import requests\n",
    "\n",
    "# NOTE: you must manually set API_KEY below using information retrieved from your IBM Cloud account.\n",
    "API_KEY = \"z1VqB59mG9ARUWBx4qDUdfe5D4pIJzlxAIPL1XsThq8V\"\n",
    "token_response = requests.post('https://iam.cloud.ibm.com/identity/token', data={\"apikey\": API_KEY, \"grant_type\": 'urn:ibm:params:oauth:grant-type:apikey'})\n",
    "mltoken = token_response.json()[\"access_token\"]\n",
    "\n",
    "# Request header\n",
    "header = {'Content-Type': 'application/json', 'Authorization': 'Bearer ' + mltoken}\n",
    "\n",
    "# Récupération des données depuis le doc excel\n",
    "df=pd.read_excel('D:/Tests Décathlon/data/test_data_scientist/test.xlsx')\n",
    "df['day_id'] = df['day_id'].astype(str)\n",
    "df.fillna(0, inplace=True)\n",
    "\n",
    "# Setup des données\n",
    "payload_scoring = {\"input_data\": [{\"fields\": [\"day_id\", \"but_num_business_unit\", \"dpt_num_department\"], \"values\": df.values.tolist()}]}\n",
    "\n",
    "# Execution de la requête\n",
    "response_scoring = requests.post('https://eu-gb.ml.cloud.ibm.com/ml/v4/deployments/214cd720-4749-4d1b-8a72-ba98e0012343/predictions?version=2021-06-21', json=payload_scoring, headers={'Authorization': 'Bearer ' + mltoken})\n",
    "predictions = response_scoring.json()\n",
    "df['turnover'] = [x[0] for x in predictions['predictions'][0]['values']]\n",
    "df = df[['day_id', 'but_num_business_unit', 'dpt_num_department', 'turnover']]\n",
    "df.to_excel('D:/Tests Décathlon/data/test_data_scientist/test_predicted_turnover.xlsx')\n",
    "# Les prédictions sont ajoutées dans une colonne 'turnover' et celle-ci est ajoutée dans le dataframe df"
   ]
  },
  {
   "cell_type": "code",
   "execution_count": 71,
   "id": "b834171b",
   "metadata": {},
   "outputs": [
    {
     "data": {
      "text/html": [
       "<div>\n",
       "<style scoped>\n",
       "    .dataframe tbody tr th:only-of-type {\n",
       "        vertical-align: middle;\n",
       "    }\n",
       "\n",
       "    .dataframe tbody tr th {\n",
       "        vertical-align: top;\n",
       "    }\n",
       "\n",
       "    .dataframe thead th {\n",
       "        text-align: right;\n",
       "    }\n",
       "</style>\n",
       "<table border=\"1\" class=\"dataframe\">\n",
       "  <thead>\n",
       "    <tr style=\"text-align: right;\">\n",
       "      <th></th>\n",
       "      <th>Unnamed: 0</th>\n",
       "      <th>day_id</th>\n",
       "      <th>but_num_business_unit</th>\n",
       "      <th>dpt_num_department</th>\n",
       "      <th>turnover</th>\n",
       "    </tr>\n",
       "  </thead>\n",
       "  <tbody>\n",
       "    <tr>\n",
       "      <th>10131</th>\n",
       "      <td>10131</td>\n",
       "      <td>2017-10-07</td>\n",
       "      <td>61</td>\n",
       "      <td>88</td>\n",
       "      <td>1107.534912</td>\n",
       "    </tr>\n",
       "    <tr>\n",
       "      <th>10132</th>\n",
       "      <td>10132</td>\n",
       "      <td>2017-10-07</td>\n",
       "      <td>641</td>\n",
       "      <td>117</td>\n",
       "      <td>518.551392</td>\n",
       "    </tr>\n",
       "    <tr>\n",
       "      <th>10133</th>\n",
       "      <td>10133</td>\n",
       "      <td>2017-10-07</td>\n",
       "      <td>724</td>\n",
       "      <td>117</td>\n",
       "      <td>400.991974</td>\n",
       "    </tr>\n",
       "    <tr>\n",
       "      <th>10134</th>\n",
       "      <td>10134</td>\n",
       "      <td>2017-10-07</td>\n",
       "      <td>1302</td>\n",
       "      <td>117</td>\n",
       "      <td>318.826019</td>\n",
       "    </tr>\n",
       "    <tr>\n",
       "      <th>10135</th>\n",
       "      <td>10135</td>\n",
       "      <td>2017-10-07</td>\n",
       "      <td>1126</td>\n",
       "      <td>88</td>\n",
       "      <td>18.257023</td>\n",
       "    </tr>\n",
       "  </tbody>\n",
       "</table>\n",
       "</div>"
      ],
      "text/plain": [
       "       Unnamed: 0      day_id  but_num_business_unit  dpt_num_department  \\\n",
       "10131       10131  2017-10-07                     61                  88   \n",
       "10132       10132  2017-10-07                    641                 117   \n",
       "10133       10133  2017-10-07                    724                 117   \n",
       "10134       10134  2017-10-07                   1302                 117   \n",
       "10135       10135  2017-10-07                   1126                  88   \n",
       "\n",
       "          turnover  \n",
       "10131  1107.534912  \n",
       "10132   518.551392  \n",
       "10133   400.991974  \n",
       "10134   318.826019  \n",
       "10135    18.257023  "
      ]
     },
     "execution_count": 71,
     "metadata": {},
     "output_type": "execute_result"
    }
   ],
   "source": [
    "predicted_df = pd.read_excel('D:/Tests Décathlon/data/test_data_scientist/test_predicted_turnover.xlsx')\n",
    "predicted_df.tail()"
   ]
  },
  {
   "cell_type": "code",
   "execution_count": null,
   "id": "893c9360",
   "metadata": {},
   "outputs": [],
   "source": []
  }
 ],
 "metadata": {
  "kernelspec": {
   "display_name": "Python 3",
   "language": "python",
   "name": "python3"
  },
  "language_info": {
   "codemirror_mode": {
    "name": "ipython",
    "version": 3
   },
   "file_extension": ".py",
   "mimetype": "text/x-python",
   "name": "python",
   "nbconvert_exporter": "python",
   "pygments_lexer": "ipython3",
   "version": "3.8.8"
  }
 },
 "nbformat": 4,
 "nbformat_minor": 5
}
