{
 "cells": [
  {
   "cell_type": "code",
   "execution_count": 172,
   "id": "eebe4764",
   "metadata": {},
   "outputs": [],
   "source": [
    "import pandas as pd\n",
    "import numpy as np\n",
    "import math\n",
    "import os\n",
    "import openpyxl\n",
    "import matplotlib.pyplot as plt\n",
    "from sklearn import preprocessing, svm\n",
    "from sklearn.model_selection import train_test_split\n",
    "from sklearn.linear_model import LinearRegression"
   ]
  },
  {
   "cell_type": "code",
   "execution_count": 173,
   "id": "23cd25d1",
   "metadata": {},
   "outputs": [
    {
     "data": {
      "text/plain": [
       "['bu_feat.csv.gz',\n",
       " 'bu_feat.xlsx',\n",
       " 'final.xlsx',\n",
       " 'on_tente_des_choses.xlsx',\n",
       " 'test.csv.gz',\n",
       " 'test.xlsx',\n",
       " 'test_predicted_turnover.xlsx',\n",
       " 'train.csv',\n",
       " 'train.csv.gz',\n",
       " 'train.xlsx']"
      ]
     },
     "execution_count": 173,
     "metadata": {},
     "output_type": "execute_result"
    }
   ],
   "source": [
    "os.listdir('D:/Tests Décathlon/data/test_data_scientist')"
   ]
  },
  {
   "cell_type": "code",
   "execution_count": 174,
   "id": "9c4d7d9b",
   "metadata": {},
   "outputs": [
    {
     "data": {
      "text/html": [
       "<div>\n",
       "<style scoped>\n",
       "    .dataframe tbody tr th:only-of-type {\n",
       "        vertical-align: middle;\n",
       "    }\n",
       "\n",
       "    .dataframe tbody tr th {\n",
       "        vertical-align: top;\n",
       "    }\n",
       "\n",
       "    .dataframe thead th {\n",
       "        text-align: right;\n",
       "    }\n",
       "</style>\n",
       "<table border=\"1\" class=\"dataframe\">\n",
       "  <thead>\n",
       "    <tr style=\"text-align: right;\">\n",
       "      <th></th>\n",
       "      <th>year</th>\n",
       "      <th>month</th>\n",
       "      <th>day</th>\n",
       "      <th>but_num_business_unit</th>\n",
       "      <th>dpt_num_department</th>\n",
       "    </tr>\n",
       "  </thead>\n",
       "  <tbody>\n",
       "    <tr>\n",
       "      <th>0</th>\n",
       "      <td>2017</td>\n",
       "      <td>09</td>\n",
       "      <td>30</td>\n",
       "      <td>64</td>\n",
       "      <td>127</td>\n",
       "    </tr>\n",
       "    <tr>\n",
       "      <th>1</th>\n",
       "      <td>2017</td>\n",
       "      <td>09</td>\n",
       "      <td>30</td>\n",
       "      <td>119</td>\n",
       "      <td>127</td>\n",
       "    </tr>\n",
       "    <tr>\n",
       "      <th>2</th>\n",
       "      <td>2017</td>\n",
       "      <td>09</td>\n",
       "      <td>30</td>\n",
       "      <td>4</td>\n",
       "      <td>88</td>\n",
       "    </tr>\n",
       "    <tr>\n",
       "      <th>3</th>\n",
       "      <td>2017</td>\n",
       "      <td>09</td>\n",
       "      <td>30</td>\n",
       "      <td>425</td>\n",
       "      <td>127</td>\n",
       "    </tr>\n",
       "    <tr>\n",
       "      <th>4</th>\n",
       "      <td>2017</td>\n",
       "      <td>09</td>\n",
       "      <td>30</td>\n",
       "      <td>513</td>\n",
       "      <td>73</td>\n",
       "    </tr>\n",
       "  </tbody>\n",
       "</table>\n",
       "</div>"
      ],
      "text/plain": [
       "   year month day  but_num_business_unit  dpt_num_department\n",
       "0  2017    09  30                     64                 127\n",
       "1  2017    09  30                    119                 127\n",
       "2  2017    09  30                      4                  88\n",
       "3  2017    09  30                    425                 127\n",
       "4  2017    09  30                    513                  73"
      ]
     },
     "execution_count": 174,
     "metadata": {},
     "output_type": "execute_result"
    }
   ],
   "source": [
    "# Récupération des données pour l'entrainement\n",
    "df_train=pd.read_excel('D:/Tests Décathlon/data/test_data_scientist/train.xlsx')\n",
    "df_train['day_id'] = df_train['day_id'].astype(str) # On scinde la date en 3 parties (year, month et day)\n",
    "df_train[[\"year\", \"month\", \"day\"]] = df_train[\"day_id\"].str.split(\"-\", expand = True)\n",
    "df_train_X = df_train[['year', 'month', 'day', 'but_num_business_unit', 'dpt_num_department']]\n",
    "df_train_y = df_train[['turnover']]\n",
    "df_train_X.head()"
   ]
  },
  {
   "cell_type": "code",
   "execution_count": 175,
   "id": "997070dc",
   "metadata": {},
   "outputs": [
    {
     "data": {
      "text/html": [
       "<div>\n",
       "<style scoped>\n",
       "    .dataframe tbody tr th:only-of-type {\n",
       "        vertical-align: middle;\n",
       "    }\n",
       "\n",
       "    .dataframe tbody tr th {\n",
       "        vertical-align: top;\n",
       "    }\n",
       "\n",
       "    .dataframe thead th {\n",
       "        text-align: right;\n",
       "    }\n",
       "</style>\n",
       "<table border=\"1\" class=\"dataframe\">\n",
       "  <thead>\n",
       "    <tr style=\"text-align: right;\">\n",
       "      <th></th>\n",
       "      <th>turnover</th>\n",
       "    </tr>\n",
       "  </thead>\n",
       "  <tbody>\n",
       "    <tr>\n",
       "      <th>0</th>\n",
       "      <td>580.308443</td>\n",
       "    </tr>\n",
       "    <tr>\n",
       "      <th>1</th>\n",
       "      <td>1512.995918</td>\n",
       "    </tr>\n",
       "    <tr>\n",
       "      <th>2</th>\n",
       "      <td>668.593556</td>\n",
       "    </tr>\n",
       "    <tr>\n",
       "      <th>3</th>\n",
       "      <td>0.000000</td>\n",
       "    </tr>\n",
       "    <tr>\n",
       "      <th>4</th>\n",
       "      <td>0.000000</td>\n",
       "    </tr>\n",
       "  </tbody>\n",
       "</table>\n",
       "</div>"
      ],
      "text/plain": [
       "      turnover\n",
       "0   580.308443\n",
       "1  1512.995918\n",
       "2   668.593556\n",
       "3     0.000000\n",
       "4     0.000000"
      ]
     },
     "execution_count": 175,
     "metadata": {},
     "output_type": "execute_result"
    }
   ],
   "source": [
    "df_train_y.head()"
   ]
  },
  {
   "cell_type": "code",
   "execution_count": 176,
   "id": "6b614a44",
   "metadata": {},
   "outputs": [
    {
     "data": {
      "text/html": [
       "<div>\n",
       "<style scoped>\n",
       "    .dataframe tbody tr th:only-of-type {\n",
       "        vertical-align: middle;\n",
       "    }\n",
       "\n",
       "    .dataframe tbody tr th {\n",
       "        vertical-align: top;\n",
       "    }\n",
       "\n",
       "    .dataframe thead th {\n",
       "        text-align: right;\n",
       "    }\n",
       "</style>\n",
       "<table border=\"1\" class=\"dataframe\">\n",
       "  <thead>\n",
       "    <tr style=\"text-align: right;\">\n",
       "      <th></th>\n",
       "      <th>year</th>\n",
       "      <th>month</th>\n",
       "      <th>day</th>\n",
       "      <th>but_num_business_unit</th>\n",
       "      <th>dpt_num_department</th>\n",
       "    </tr>\n",
       "  </thead>\n",
       "  <tbody>\n",
       "    <tr>\n",
       "      <th>0</th>\n",
       "      <td>2017</td>\n",
       "      <td>11</td>\n",
       "      <td>25</td>\n",
       "      <td>95</td>\n",
       "      <td>73</td>\n",
       "    </tr>\n",
       "    <tr>\n",
       "      <th>1</th>\n",
       "      <td>2017</td>\n",
       "      <td>11</td>\n",
       "      <td>25</td>\n",
       "      <td>4</td>\n",
       "      <td>117</td>\n",
       "    </tr>\n",
       "    <tr>\n",
       "      <th>2</th>\n",
       "      <td>2017</td>\n",
       "      <td>11</td>\n",
       "      <td>25</td>\n",
       "      <td>113</td>\n",
       "      <td>127</td>\n",
       "    </tr>\n",
       "    <tr>\n",
       "      <th>3</th>\n",
       "      <td>2017</td>\n",
       "      <td>11</td>\n",
       "      <td>25</td>\n",
       "      <td>93</td>\n",
       "      <td>117</td>\n",
       "    </tr>\n",
       "    <tr>\n",
       "      <th>4</th>\n",
       "      <td>2017</td>\n",
       "      <td>11</td>\n",
       "      <td>25</td>\n",
       "      <td>66</td>\n",
       "      <td>127</td>\n",
       "    </tr>\n",
       "  </tbody>\n",
       "</table>\n",
       "</div>"
      ],
      "text/plain": [
       "   year month day  but_num_business_unit  dpt_num_department\n",
       "0  2017    11  25                     95                  73\n",
       "1  2017    11  25                      4                 117\n",
       "2  2017    11  25                    113                 127\n",
       "3  2017    11  25                     93                 117\n",
       "4  2017    11  25                     66                 127"
      ]
     },
     "execution_count": 176,
     "metadata": {},
     "output_type": "execute_result"
    }
   ],
   "source": [
    "# Récupération des données pour la prédiction\n",
    "df_test=pd.read_excel('D:/Tests Décathlon/data/test_data_scientist/test.xlsx')\n",
    "df_test['day_id'] = df_test['day_id'].astype(str)\n",
    "df_test[[\"year\", \"month\", \"day\"]] = df_test[\"day_id\"].str.split(\"-\", expand = True)\n",
    "df_test = df_test[['year', 'month', 'day', 'but_num_business_unit', 'dpt_num_department']]\n",
    "df_test.head()"
   ]
  },
  {
   "cell_type": "code",
   "execution_count": 177,
   "id": "79980bf8",
   "metadata": {},
   "outputs": [],
   "source": [
    "# Création des datasets d'entrainement et de test\n",
    "X = np.array(df_train_X)\n",
    "y = np.array(df_train_y)\n",
    "X_train, X_test, y_train, y_test = train_test_split(X, y, test_size=0.2, shuffle=False)"
   ]
  },
  {
   "cell_type": "code",
   "execution_count": 178,
   "id": "b8804b11",
   "metadata": {},
   "outputs": [
    {
     "name": "stdout",
     "output_type": "stream",
     "text": [
      "0.006570764328849066\n"
     ]
    }
   ],
   "source": [
    "# Entrainement et test du modèle\n",
    "model = LinearRegression()\n",
    "model.fit(X_train, y_train)\n",
    "confidence = model.score(X_test, y_test)\n",
    "print(confidence)"
   ]
  },
  {
   "cell_type": "code",
   "execution_count": 179,
   "id": "de3a58cd",
   "metadata": {},
   "outputs": [
    {
     "name": "stdout",
     "output_type": "stream",
     "text": [
      "[[ 223.49848426]\n",
      " [1125.53080277]\n",
      " [1254.74447927]\n",
      " ...\n",
      " [ 733.73849397]\n",
      " [ 395.92135761]\n",
      " [ -60.68097001]]\n"
     ]
    }
   ],
   "source": [
    "# Prédiction du chiffre d'affaire\n",
    "X_forecast = np.array(df_test)\n",
    "forecast_set = clf.predict(X_forecast)\n",
    "print(forecast_set)"
   ]
  },
  {
   "cell_type": "code",
   "execution_count": 180,
   "id": "6bfc015f",
   "metadata": {},
   "outputs": [],
   "source": [
    "# Rajout des prédictions dans le dataframe df_test\n",
    "df_train=pd.read_excel('D:/Tests Décathlon/data/test_data_scientist/train.xlsx')\n",
    "df_test=pd.read_excel('D:/Tests Décathlon/data/test_data_scientist/test.xlsx')\n",
    "df_test['turnover'] = [x[0] for x in forecast_set]\n",
    "df_test.to_excel('D:/Tests Décathlon/data/test_data_scientist/test_with_predictions.xlsx')"
   ]
  },
  {
   "cell_type": "code",
   "execution_count": 181,
   "id": "58bdb61b",
   "metadata": {},
   "outputs": [],
   "source": [
    "# Regroupement des données en un seul fichier excel\n",
    "complete_df = df_test.append(df_train, ignore_index=True)\n",
    "complete_df = complete_df[['day_id', 'but_num_business_unit', 'dpt_num_department', 'turnover']]\n",
    "complete_df['day_id'] = complete_df['day_id'].astype(str)\n",
    "complete_df.to_excel('D:/Tests Décathlon/data/test_data_scientist/complete_data_with_predictions.xlsx')"
   ]
  },
  {
   "cell_type": "code",
   "execution_count": 183,
   "id": "0cc9f2cb",
   "metadata": {},
   "outputs": [
    {
     "name": "stdout",
     "output_type": "stream",
     "text": [
      "(277719, 4)\n"
     ]
    }
   ],
   "source": [
    "print(pd.read_excel('D:/Tests Décathlon/data/test_data_scientist/train.xlsx').shape)"
   ]
  },
  {
   "cell_type": "code",
   "execution_count": 184,
   "id": "7fbf9230",
   "metadata": {},
   "outputs": [
    {
     "name": "stdout",
     "output_type": "stream",
     "text": [
      "(287855, 5)\n"
     ]
    }
   ],
   "source": [
    "print(pd.read_excel('D:/Tests Décathlon/data/test_data_scientist/complete_data_with_predictions.xlsx').shape)"
   ]
  },
  {
   "cell_type": "code",
   "execution_count": 185,
   "id": "2c4f7b15",
   "metadata": {},
   "outputs": [],
   "source": [
    "workbook_initial = openpyxl.load_workbook('D:/Tests Décathlon/data/test_data_scientist/train.xlsx', read_only = True)\n",
    "sheet_initial = workbook_initial.active"
   ]
  },
  {
   "cell_type": "code",
   "execution_count": 186,
   "id": "6960aa11",
   "metadata": {},
   "outputs": [],
   "source": [
    "# On reprend l'exemple et la méthode de la question préliminaire 1.d. avec le departement 73\n",
    "data_2017_dept_73=[]\n",
    "#Séléction des données utiles : lignes pour l'année 2017 du département 73\n",
    "for row in sheet_initial.iter_rows(min_row = 2, max_row = 277719, values_only=True):\n",
    "    if '2017' in str(row[0]) and row[2]==73:\n",
    "        data_2017_dept_73.append([row[0], row[1], row[2], row[3]])\n",
    "data_2017_dept_73.reverse()\n",
    "date=data_2017_dept_73[0][0]\n",
    "week_number=1\n",
    "total_turnover=0\n",
    "recap_table_2017=[]\n",
    "for line in data_2017_dept_73:\n",
    "    if line[0]!=date:\n",
    "        recap_table_2017.append([week_number, total_turnover])\n",
    "        week_number+=1\n",
    "        total_turnover=0\n",
    "        date=line[0]\n",
    "    else:\n",
    "        total_turnover+=round(float(line[3]))\n",
    "recap_table_2017.append([week_number, total_turnover])\n",
    "abs_2017=[]\n",
    "ord_2017=[]\n",
    "for i in range(len(recap_table_2017)):\n",
    "    abs_2017.append(recap_table_2017[i][0])\n",
    "    ord_2017.append(recap_table_2017[i][1])"
   ]
  },
  {
   "cell_type": "code",
   "execution_count": 187,
   "id": "9a25956d",
   "metadata": {},
   "outputs": [],
   "source": [
    "workbook_complete = openpyxl.load_workbook('D:/Tests Décathlon/data/test_data_scientist/complete_data_with_predictions.xlsx', read_only = True)\n",
    "sheet_complete = workbook_complete.active"
   ]
  },
  {
   "cell_type": "code",
   "execution_count": 188,
   "id": "88dd5a24",
   "metadata": {},
   "outputs": [],
   "source": [
    "# Ici on fait la même chose qu'en haut mais avec les données complètes (train + forecast)\n",
    "data_2017_dept_73_forecast=[]\n",
    "for row in sheet_complete.iter_rows(min_row = 2, max_row = 287855, values_only=True):\n",
    "    if '2017' in str(row[1]) and row[3]==73:\n",
    "        data_2017_dept_73_forecast.append([row[1], row[2], row[3], row[4]])\n",
    "data_2017_dept_73_forecast.reverse()\n",
    "date=data_2017_dept_73_forecast[0][0]\n",
    "week_number=1\n",
    "total_turnover=0\n",
    "recap_table_2017_forecast=[]\n",
    "for line in data_2017_dept_73_forecast:\n",
    "    if line[0]!=date:\n",
    "        recap_table_2017_forecast.append([week_number, total_turnover])\n",
    "        week_number+=1\n",
    "        total_turnover=0\n",
    "        date=line[0]\n",
    "    else:\n",
    "        total_turnover+=round(float(line[3]))\n",
    "recap_table_2017_forecast.append([week_number, total_turnover])\n",
    "abs_2017_forecast=[]\n",
    "ord_2017_forecast=[]\n",
    "for i in range(len(recap_table_2017_forecast)):\n",
    "    abs_2017_forecast.append(recap_table_2017_forecast[i][0])\n",
    "    ord_2017_forecast.append(recap_table_2017_forecast[i][1])"
   ]
  },
  {
   "cell_type": "code",
   "execution_count": 189,
   "id": "048f2442",
   "metadata": {},
   "outputs": [
    {
     "data": {
      "image/png": "[encoded data removed]",
      "text/plain": [
       "<Figure size 432x288 with 1 Axes>"
      ]
     },
     "metadata": {
      "needs_background": "light"
     },
     "output_type": "display_data"
    }
   ],
   "source": [
    "# Affichage du graph initial\n",
    "plt.plot(abs_2017, ord_2017)\n",
    "plt.legend([\"2017_data\"])\n",
    "plt.xlabel('week number')\n",
    "plt.ylabel('turnover')\n",
    "plt.show()"
   ]
  },
  {
   "cell_type": "code",
   "execution_count": 190,
   "id": "86c332fc",
   "metadata": {},
   "outputs": [
    {
     "data": {
      "image/png": "[encoded data removed]",
      "text/plain": [
       "<Figure size 432x288 with 1 Axes>"
      ]
     },
     "metadata": {
      "needs_background": "light"
     },
     "output_type": "display_data"
    }
   ],
   "source": [
    "# Affichage du graph avec toutes les données (données initiales + données prédites)\n",
    "plt.plot(abs_2017_forecast, ord_2017_forecast)\n",
    "plt.legend([\"2017_data + forecast\"])\n",
    "plt.xlabel('week number')\n",
    "plt.ylabel('turnover')\n",
    "plt.show()"
   ]
  },
  {
   "cell_type": "code",
   "execution_count": null,
   "id": "97f24b14",
   "metadata": {},
   "outputs": [],
   "source": []
  }
 ],
 "metadata": {
  "kernelspec": {
   "display_name": "Python 3",
   "language": "python",
   "name": "python3"
  },
  "language_info": {
   "codemirror_mode": {
    "name": "ipython",
    "version": 3
   },
   "file_extension": ".py",
   "mimetype": "text/x-python",
   "name": "python",
   "nbconvert_exporter": "python",
   "pygments_lexer": "ipython3",
   "version": "3.8.8"
  }
 },
 "nbformat": 4,
 "nbformat_minor": 5
}
